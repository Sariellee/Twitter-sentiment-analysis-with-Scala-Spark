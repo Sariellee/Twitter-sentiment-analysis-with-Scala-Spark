{
 "cells": [
  {
   "cell_type": "code",
   "execution_count": null,
   "metadata": {},
   "outputs": [],
   "source": [
    "import os, sys\n",
    "import pandas as pd"
   ]
  },
  {
   "cell_type": "code",
   "execution_count": 69,
   "metadata": {},
   "outputs": [],
   "source": [
    "fd = open('LogReg_result.csv', 'w')\n",
    "for root, dirs, files in os.walk('./output_model_LogReg'):\n",
    "    for file in files:\n",
    "        path = os.path.join(root,file)\n",
    "        \n",
    "        if path.endswith('.csv'):\n",
    "            with open(path, 'r') as cur_fd:\n",
    "                fd.write('\\n'.join(cur_fd.readlines()))\n",
    "fd.close()"
   ]
  },
  {
   "cell_type": "code",
   "execution_count": null,
   "metadata": {},
   "outputs": [],
   "source": [
    "# with open('SVC_result', 'r') as f:\n",
    "#     print(f.read())"
   ]
  },
  {
   "cell_type": "code",
   "execution_count": 66,
   "metadata": {},
   "outputs": [],
   "source": [
    "name = sys.argv[1]\n",
    "df = pd.read_csv(name)\n",
    "df['ours'] = df['class'].apply(lambda x: None)\n",
    "\n",
    "for i, row in enumerate(df.values):\n",
    "    print('{}/{} '.format(i, len(df)), row[1], row[2])\n",
    "    class_id = int(input())\n",
    "    df.loc[i,'ours'] = class_id\n",
    "    break\n",
    "\n",
    "df.to_csv('out_'+name)"
   ]
  },
  {
   "cell_type": "code",
   "execution_count": 68,
   "metadata": {},
   "outputs": [
    {
     "data": {
      "text/html": [
       "<div>\n",
       "<style scoped>\n",
       "    .dataframe tbody tr th:only-of-type {\n",
       "        vertical-align: middle;\n",
       "    }\n",
       "\n",
       "    .dataframe tbody tr th {\n",
       "        vertical-align: top;\n",
       "    }\n",
       "\n",
       "    .dataframe thead th {\n",
       "        text-align: right;\n",
       "    }\n",
       "</style>\n",
       "<table border=\"1\" class=\"dataframe\">\n",
       "  <thead>\n",
       "    <tr style=\"text-align: right;\">\n",
       "      <th></th>\n",
       "      <th>Unnamed: 0</th>\n",
       "      <th>Unnamed: 0.1</th>\n",
       "      <th>time</th>\n",
       "      <th>text</th>\n",
       "      <th>class</th>\n",
       "      <th>ours</th>\n",
       "    </tr>\n",
       "  </thead>\n",
       "  <tbody>\n",
       "    <tr>\n",
       "      <td>0</td>\n",
       "      <td>0</td>\n",
       "      <td>0</td>\n",
       "      <td>2019-11-19T14:00:00.166+03:00</td>\n",
       "      <td>@blossombobcat awww. tnx. u guys take care. i ...</td>\n",
       "      <td>1.0</td>\n",
       "      <td>1</td>\n",
       "    </tr>\n",
       "    <tr>\n",
       "      <td>1</td>\n",
       "      <td>1</td>\n",
       "      <td>1</td>\n",
       "      <td>2019-11-19T14:41:50.281+03:00</td>\n",
       "      <td>\\@dasbecca we totally call walmart the $100 st...</td>\n",
       "      <td>0.0</td>\n",
       "      <td>0</td>\n",
       "    </tr>\n",
       "    <tr>\n",
       "      <td>2</td>\n",
       "      <td>2</td>\n",
       "      <td>2</td>\n",
       "      <td>2019-11-19T14:20:00.161+03:00</td>\n",
       "      <td>@BlowJab same shit happened to me on Monday. I...</td>\n",
       "      <td>0.0</td>\n",
       "      <td>0</td>\n",
       "    </tr>\n",
       "    <tr>\n",
       "      <td>3</td>\n",
       "      <td>3</td>\n",
       "      <td>3</td>\n",
       "      <td>2019-11-19T14:41:50.281+03:00</td>\n",
       "      <td>@dasflipz Nice to meet you tonight!</td>\n",
       "      <td>1.0</td>\n",
       "      <td>1</td>\n",
       "    </tr>\n",
       "    <tr>\n",
       "      <td>4</td>\n",
       "      <td>4</td>\n",
       "      <td>4</td>\n",
       "      <td>2019-11-19T14:00:00.166+03:00</td>\n",
       "      <td>\\@BloodzillaBilly That pic is amazing! I tried...</td>\n",
       "      <td>1.0</td>\n",
       "      <td>0</td>\n",
       "    </tr>\n",
       "  </tbody>\n",
       "</table>\n",
       "</div>"
      ],
      "text/plain": [
       "   Unnamed: 0  Unnamed: 0.1                           time  \\\n",
       "0           0             0  2019-11-19T14:00:00.166+03:00   \n",
       "1           1             1  2019-11-19T14:41:50.281+03:00   \n",
       "2           2             2  2019-11-19T14:20:00.161+03:00   \n",
       "3           3             3  2019-11-19T14:41:50.281+03:00   \n",
       "4           4             4  2019-11-19T14:00:00.166+03:00   \n",
       "\n",
       "                                                text  class  ours  \n",
       "0  @blossombobcat awww. tnx. u guys take care. i ...    1.0     1  \n",
       "1  \\@dasbecca we totally call walmart the $100 st...    0.0     0  \n",
       "2  @BlowJab same shit happened to me on Monday. I...    0.0     0  \n",
       "3                @dasflipz Nice to meet you tonight!    1.0     1  \n",
       "4  \\@BloodzillaBilly That pic is amazing! I tried...    1.0     0  "
      ]
     },
     "execution_count": 68,
     "metadata": {},
     "output_type": "execute_result"
    }
   ],
   "source": [
    "df = pd.read_csv('out_SVC_result.csv')\n",
    "df.head()"
   ]
  },
  {
   "cell_type": "code",
   "execution_count": null,
   "metadata": {},
   "outputs": [],
   "source": []
  }
 ],
 "metadata": {
  "kernelspec": {
   "display_name": "Python [conda env:ml]",
   "language": "python",
   "name": "conda-env-ml-py"
  },
  "language_info": {
   "codemirror_mode": {
    "name": "ipython",
    "version": 3
   },
   "file_extension": ".py",
   "mimetype": "text/x-python",
   "name": "python",
   "nbconvert_exporter": "python",
   "pygments_lexer": "ipython3",
   "version": "3.7.4"
  }
 },
 "nbformat": 4,
 "nbformat_minor": 4
}
