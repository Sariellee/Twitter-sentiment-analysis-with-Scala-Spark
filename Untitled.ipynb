{
 "cells": [
  {
   "cell_type": "code",
   "execution_count": null,
   "metadata": {},
   "outputs": [],
   "source": [
    "import os, sys\n",
    "import pandas as pd"
   ]
  },
  {
   "cell_type": "code",
   "execution_count": null,
   "metadata": {},
   "outputs": [],
   "source": [
    "fd = open('SVC_result.csv', 'w')\n",
    "for root, dirs, files in os.walk('./output_model_SVC'):\n",
    "    for file in files:\n",
    "        path = os.path.join(root,file)\n",
    "        \n",
    "        if path.endswith('.csv'):\n",
    "            with open(path, 'r') as cur_fd:\n",
    "                fd.write('\\n'.join(cur_fd.readlines()))\n",
    "fd.close()"
   ]
  },
  {
   "cell_type": "code",
   "execution_count": null,
   "metadata": {},
   "outputs": [],
   "source": [
    "# with open('SVC_result', 'r') as f:\n",
    "#     print(f.read())"
   ]
  },
  {
   "cell_type": "code",
   "execution_count": 66,
   "metadata": {},
   "outputs": [],
   "source": [
    "name = sys.argv[1]\n",
    "df = pd.read_csv(name)\n",
    "df['ours'] = df['class'].apply(lambda x: None)\n",
    "\n",
    "for i, row in enumerate(df.values):\n",
    "    print('{}/{} '.format(i, len(df)), row[1], row[2])\n",
    "    class_id = int(input())\n",
    "    df.loc[i,'ours'] = class_id\n",
    "    break\n",
    "\n",
    "df.to_csv('out_'+name)"
   ]
  },
  {
   "cell_type": "code",
   "execution_count": null,
   "metadata": {},
   "outputs": [],
   "source": []
  }
 ],
 "metadata": {
  "kernelspec": {
   "display_name": "Python [conda env:ml]",
   "language": "python",
   "name": "conda-env-ml-py"
  },
  "language_info": {
   "codemirror_mode": {
    "name": "ipython",
    "version": 3
   },
   "file_extension": ".py",
   "mimetype": "text/x-python",
   "name": "python",
   "nbconvert_exporter": "python",
   "pygments_lexer": "ipython3",
   "version": "3.7.4"
  }
 },
 "nbformat": 4,
 "nbformat_minor": 4
}
